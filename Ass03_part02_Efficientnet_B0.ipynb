{
  "nbformat": 4,
  "nbformat_minor": 0,
  "metadata": {
    "colab": {
      "provenance": [],
      "authorship_tag": "ABX9TyOlSDItMP6jHS7ak2vx+zPR",
      "include_colab_link": true
    },
    "kernelspec": {
      "name": "python3",
      "display_name": "Python 3"
    },
    "language_info": {
      "name": "python"
    }
  },
  "cells": [
    {
      "cell_type": "markdown",
      "metadata": {
        "id": "view-in-github",
        "colab_type": "text"
      },
      "source": [
        "<a href=\"https://colab.research.google.com/github/SahanUday/Eleczone_CNN/blob/main/Ass03_part02_Efficientnet_B0.ipynb\" target=\"_parent\"><img src=\"https://colab.research.google.com/assets/colab-badge.svg\" alt=\"Open In Colab\"/></a>"
      ]
    },
    {
      "cell_type": "code",
      "source": [
        "import torch\n",
        "from torchvision import datasets, transforms\n",
        "from torch.utils.data import DataLoader, random_split\n",
        "import torch.nn as nn\n",
        "from torchvision import models\n",
        "from torchsummary import summary\n",
        "import matplotlib.pyplot as plt\n",
        "import numpy as np"
      ],
      "metadata": {
        "id": "tjZfcdrHFrU0"
      },
      "execution_count": null,
      "outputs": []
    },
    {
      "cell_type": "markdown",
      "source": [
        "## MNIST Dataset Loading and Pre-processing"
      ],
      "metadata": {
        "id": "CcUrlUEdGwpp"
      }
    },
    {
      "cell_type": "code",
      "source": [
        "# Define the transform pipeline for upsampling, channel replication, and normalization\n",
        "# Upsamples to 224x224 (for MobileNetV2/EfficientNetB0), converts to tensor, replicates grayscale to pseudo-RGB,\n",
        "# and applies ImageNet normalization for pre-trained models\n",
        "transform = transforms.Compose([\n",
        "    transforms.Resize((224, 224)),  # Upsample to 224x224 (bilinear interpolation by default)\n",
        "    transforms.Grayscale(num_output_channels=3),  # Channel replication: [1, H, W] -> [3, H, W] (pseudo-RGB)\n",
        "    transforms.ToTensor(),  # Convert PIL to [0,1] float tensor (shape: [3, 224, 224])\n",
        "])\n",
        "\n",
        "# Load the MNIST dataset using torchvision\n",
        "# train=True for training split, download=True to fetch if not present\n",
        "full_train_dataset = datasets.MNIST(root='./data', train=True, download=True, transform=transform)\n",
        "test_dataset = datasets.MNIST(root='./data', train=False, download=True, transform=transform)\n",
        "\n",
        "# Split the full training dataset into train and validation (e.g., 80/20 split)\n",
        "# For reproducibility, use a fixed seed\n",
        "train_size = int(0.85 * len(full_train_dataset))\n",
        "val_size = len(full_train_dataset) - train_size\n",
        "train_dataset, val_dataset = random_split(\n",
        "    full_train_dataset,\n",
        "    [train_size, val_size],\n",
        "    generator=torch.Generator().manual_seed(42)\n",
        ")\n",
        "\n",
        "# Batch the datasets for efficiency\n",
        "BATCH_SIZE = 32\n",
        "train_loader = DataLoader(train_dataset, batch_size=BATCH_SIZE, shuffle=True, num_workers=2)\n",
        "val_loader = DataLoader(val_dataset, batch_size=BATCH_SIZE, shuffle=False, num_workers=2)\n",
        "test_loader = DataLoader(test_dataset, batch_size=BATCH_SIZE, shuffle=False, num_workers=2)"
      ],
      "metadata": {
        "id": "sj3hpmpjF8Cd"
      },
      "execution_count": null,
      "outputs": []
    },
    {
      "cell_type": "code",
      "source": [
        "# Print dataset info\n",
        "print(f\"Full training examples: {len(full_train_dataset)}\")\n",
        "print(f\"Train split examples: {len(train_dataset)}\")\n",
        "print(f\"Validation split examples: {len(val_dataset)}\")\n",
        "print(f\"Test examples: {len(test_dataset)}\")"
      ],
      "metadata": {
        "id": "_7CKRm2xF-39"
      },
      "execution_count": null,
      "outputs": []
    },
    {
      "cell_type": "code",
      "source": [
        "#Visualize a few preprocessed images (denormalize for display)\n",
        "def denormalize_for_display(image):\n",
        "# image shape: (3, 224, 224), already in [0,1]\n",
        "    image = (image.numpy() * 255.0).astype('uint8')\n",
        "    return image.transpose(1, 2, 0)  # CHW to HWC for imshow\n",
        "\n",
        "plt.figure(figsize=(12, 6))\n",
        "data_iter = iter(train_loader)\n",
        "image_batch, label_batch = next(data_iter)\n",
        "\n",
        "for j in range(min(8, len(image_batch))):  # Show up to 8 images\n",
        "    plt.subplot(2, 4, j+1)\n",
        "    img_display = denormalize_for_display(image_batch[j])\n",
        "    plt.imshow(img_display)\n",
        "    plt.title(f'Label: {label_batch[j].item()}')\n",
        "    plt.axis('off')\n",
        "plt.suptitle('Preprocessed MNIST Images (Upsampled, Pseudo-RGB, Normalized)')\n",
        "plt.tight_layout()\n",
        "plt.show()\n",
        "\n",
        "print(f\"Image shape after preprocessing: {image_batch.shape[1:]}\")  # torch.Size([224, 224, 3])"
      ],
      "metadata": {
        "id": "aLfk_BjEGB44"
      },
      "execution_count": null,
      "outputs": []
    },
    {
      "cell_type": "markdown",
      "source": [
        "## Use Efficientnet_B0 as Pre-trained base model (Feature Extractor)"
      ],
      "metadata": {
        "id": "iVlNqoXRG-bw"
      }
    },
    {
      "cell_type": "code",
      "execution_count": null,
      "metadata": {
        "id": "UlizNCwUEUNx"
      },
      "outputs": [],
      "source": [
        "# Load pre-trained MobileNetV2 base model (equivalent to include_top=False)\n",
        "base_model = models.efficientnet_b0(pretrained=True)\n",
        "base_model.classifier = nn.Identity()  # Remove the classifier to mimic include_top=False\n",
        "# base_model.features outputs shape [batch, 1280, 7, 7]\n",
        "\n",
        "# Define the head model for MNIST (10 classes)\n",
        "class Head(nn.Module):\n",
        "    def __init__(self, num_classes=10):\n",
        "        super(Head, self).__init__()\n",
        "        self.fc1 = nn.Linear(1280, 128)  # 1280 from MobileNetV2 features\n",
        "        self.relu = nn.ReLU()\n",
        "        self.dropout = nn.Dropout(0.5)\n",
        "        self.fc2 = nn.Linear(128, num_classes)  # Updated for 10 MNIST classes\n",
        "        # self.softmax = nn.Softmax(dim=1)\n",
        "\n",
        "    def forward(self, x):\n",
        "        x = self.relu(self.fc1(x))\n",
        "        x = self.dropout(x)\n",
        "        # x = self.softmax(self.fc2(x))\n",
        "        x = self.fc2(x)\n",
        "        return x\n",
        "\n",
        "# Create the full model: base + head\n",
        "model = nn.Sequential(base_model, Head(num_classes=10))\n",
        "\n",
        "# Freeze the base model layers (equivalent to trainable=False)\n",
        "for param in base_model.parameters():\n",
        "    param.requires_grad = False\n",
        "\n",
        "# Define loss and optimizer (equivalent to compile)\n",
        "criterion = nn.CrossEntropyLoss()  # Expects class indices (0-9 for MNIST); use with argmax on outputs\n",
        "optimizer = torch.optim.Adam(model.parameters(), lr=0.001)  # Default lr for Adam; adjust as needed\n",
        "\n",
        "# Metrics: In PyTorch, accuracy is computed manually (e.g., in training loop)\n",
        "# Example accuracy function (for 10-class MNIST):\n",
        "def accuracy(outputs, labels):\n",
        "    _, predicted = torch.max(outputs, 1)\n",
        "    return (predicted == labels).sum().item() / labels.size(0)\n"
      ]
    },
    {
      "cell_type": "code",
      "source": [
        "# model summary\n",
        "\n",
        "device = torch.device('cuda' if torch.cuda.is_available() else 'cpu')\n",
        "model.to(device)\n",
        "summary(model, (3, 224, 224))  # Input: (channels, height, width)"
      ],
      "metadata": {
        "id": "IPTz914jGLns"
      },
      "execution_count": null,
      "outputs": []
    },
    {
      "cell_type": "markdown",
      "source": [
        "## Training and Validation Pipeline"
      ],
      "metadata": {
        "id": "00DeehxLJvzh"
      }
    },
    {
      "cell_type": "code",
      "source": [
        "# Device and training setup\n",
        "device = torch.device('cuda' if torch.cuda.is_available() else 'cpu')\n",
        "model.to(device)\n",
        "print(f\"Using device: {device}\")\n",
        "\n",
        "# Training & Eval functions (with early stopping)\n",
        "def train_epoch(model, loader, criterion, optimizer, device):\n",
        "    print(\"train_epoch\")\n",
        "    model.train()\n",
        "    running_loss = 0.0\n",
        "    correct = 0\n",
        "    total = 0\n",
        "    for images, labels in loader:\n",
        "        images, labels = images.to(device), labels.to(device)\n",
        "        optimizer.zero_grad()\n",
        "        outputs = model(images)\n",
        "\n",
        "        loss = criterion(outputs, labels)\n",
        "        loss.backward()\n",
        "        optimizer.step()\n",
        "        running_loss += loss.item() * images.size(0)\n",
        "\n",
        "        # _, predicted = torch.max(outputs.data, 1)\n",
        "\n",
        "        # Apply softmax to get probabilities: [batch_size, num_classes]\n",
        "        # probs = torch.softmax(outputs, dim=1)\n",
        "\n",
        "        _, predicted = torch.max(outputs, 1)\n",
        "        total += labels.size(0)\n",
        "        correct += (predicted == labels).sum().item()\n",
        "    return running_loss / total, correct / total\n",
        "\n",
        "def evaluate(model, loader, criterion, device):\n",
        "    print(\"evaluate\")\n",
        "    model.eval()\n",
        "    running_loss = 0.0\n",
        "    correct = 0\n",
        "    total = 0\n",
        "    with torch.no_grad():\n",
        "        for images, labels in loader:\n",
        "            images, labels = images.to(device), labels.to(device)\n",
        "            outputs = model(images)\n",
        "\n",
        "            loss = criterion(outputs, labels)\n",
        "            running_loss += loss.item() * images.size(0)\n",
        "\n",
        "            # Apply softmax to get probabilities: [batch_size, num_classes]\n",
        "            # probs = torch.softmax(outputs, dim=1)\n",
        "\n",
        "            _, predicted = torch.max(outputs, 1)\n",
        "            total += labels.size(0)\n",
        "            correct += (predicted == labels).sum().item()\n",
        "    return running_loss / total, correct / total"
      ],
      "metadata": {
        "id": "CBQB4tRzGQm4"
      },
      "execution_count": null,
      "outputs": []
    },
    {
      "cell_type": "code",
      "source": [
        "# Train with early stopping\n",
        "epochs = 10\n",
        "patience = 3\n",
        "best_val_acc = 0.0\n",
        "patience_counter = 0\n",
        "train_losses, train_accs = [], []\n",
        "val_losses, val_accs = [], []\n",
        "\n",
        "print(\"Starting training...\")\n",
        "for epoch in range(epochs):\n",
        "    train_loss, train_acc = train_epoch(model, train_loader, criterion, optimizer, device)\n",
        "    val_loss, val_acc = evaluate(model, val_loader, criterion, device)\n",
        "\n",
        "    train_losses.append(train_loss)\n",
        "    train_accs.append(train_acc)\n",
        "    val_losses.append(val_loss)\n",
        "    val_accs.append(val_acc)\n",
        "\n",
        "    print(f'Epoch {epoch+1}/{epochs}: Train Loss: {train_loss:.4f} | Train Acc: {train_acc:.4f} | Val Loss: {val_loss:.4f} | Val Acc: {val_acc:.4f}')\n",
        "\n",
        "    # Early stopping & save best\n",
        "    if val_acc > best_val_acc:\n",
        "        best_val_acc = val_acc\n",
        "        torch.save(model.state_dict(), 'best_mnist_model.pth')\n",
        "        patience_counter = 0\n",
        "    else:\n",
        "        patience_counter += 1\n",
        "        if patience_counter >= patience:\n",
        "            print(f\"Early stopping at epoch {epoch+1}\")\n",
        "            break\n",
        "    print('-' * 60)\n"
      ],
      "metadata": {
        "id": "6LvEHwEdGhod"
      },
      "execution_count": null,
      "outputs": []
    },
    {
      "cell_type": "markdown",
      "source": [
        "## Accuracy and Loss"
      ],
      "metadata": {
        "id": "0Rla2kg5KjjV"
      }
    },
    {
      "cell_type": "code",
      "source": [
        "# Plot curves\n",
        "plt.figure(figsize=(12, 4))\n",
        "plt.subplot(1, 2, 1)\n",
        "plt.plot(train_losses, label='Train')\n",
        "plt.plot(val_losses, label='Val')\n",
        "plt.xlabel('Epoch'); plt.ylabel('Loss'); plt.legend(); plt.title('Loss')\n",
        "plt.subplot(1, 2, 2)\n",
        "plt.plot(train_accs, label='Train')\n",
        "plt.plot(val_accs, label='Val')\n",
        "plt.xlabel('Epoch'); plt.ylabel('Acc'); plt.legend(); plt.title('Accuracy')\n",
        "plt.tight_layout()\n",
        "plt.show()"
      ],
      "metadata": {
        "id": "4raVCdUCKixP"
      },
      "execution_count": null,
      "outputs": []
    },
    {
      "cell_type": "markdown",
      "source": [
        "## Model Evaluating"
      ],
      "metadata": {
        "id": "SM_japHWJ8qd"
      }
    },
    {
      "cell_type": "code",
      "source": [
        "# Final test\n",
        "model.load_state_dict(torch.load('best_mnist_model.pth'))  # Load best\n",
        "test_loss, test_acc = evaluate(model, test_loader, criterion, device)\n",
        "print(f'\\nFinal Test: Loss {test_loss:.4f} | Acc {test_acc:.4f}')"
      ],
      "metadata": {
        "id": "OBr7_WKoGlIa"
      },
      "execution_count": null,
      "outputs": []
    },
    {
      "cell_type": "markdown",
      "source": [
        "## Sample Prediction"
      ],
      "metadata": {
        "id": "RrVROwomKqZX"
      }
    },
    {
      "cell_type": "code",
      "source": [
        "# Inference on a sample (e.g., first test image)\n",
        "model.eval()\n",
        "sample_img, sample_label = next(iter(test_loader))\n",
        "sample_img = sample_img[0:1].to(device)  # Single image\n",
        "with torch.no_grad():\n",
        "    output = model(sample_img)\n",
        "    probs = F.softmax(output, dim=1)\n",
        "    pred = torch.argmax(probs, dim=1).item()\n",
        "    conf = probs[0][pred].item()\n",
        "\n",
        "print(f\"Sample Prediction: True={sample_label[0].item()}, Pred={pred}, Confidence={conf:.4f}\")\n",
        "plt.imshow(sample_img.squeeze().cpu().permute(1,2,0)); plt.title(f'True: {sample_label[0].item()}, Pred: {pred}'); plt.show()"
      ],
      "metadata": {
        "id": "QYHzRb8IGq8d"
      },
      "execution_count": null,
      "outputs": []
    }
  ]
}