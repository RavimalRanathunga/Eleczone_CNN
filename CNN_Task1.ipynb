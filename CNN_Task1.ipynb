{
  "nbformat": 4,
  "nbformat_minor": 0,
  "metadata": {
    "colab": {
      "provenance": [],
      "gpuType": "T4",
      "authorship_tag": "ABX9TyMf6ttpCWDj9XXkNzinS8wN",
      "include_colab_link": true
    },
    "kernelspec": {
      "name": "python3",
      "display_name": "Python 3"
    },
    "language_info": {
      "name": "python"
    },
    "accelerator": "GPU"
  },
  "cells": [
    {
      "cell_type": "markdown",
      "metadata": {
        "id": "view-in-github",
        "colab_type": "text"
      },
      "source": [
        "<a href=\"https://colab.research.google.com/github/RavimalRanathunga/Eleczone_CNN/blob/main/CNN_Task1.ipynb\" target=\"_parent\"><img src=\"https://colab.research.google.com/assets/colab-badge.svg\" alt=\"Open In Colab\"/></a>"
      ]
    },
    {
      "cell_type": "markdown",
      "source": [
        "###Importing required libraries"
      ],
      "metadata": {
        "id": "RR_cZNl46EKQ"
      }
    },
    {
      "cell_type": "code",
      "execution_count": null,
      "metadata": {
        "id": "hBJZQNfP5kFd"
      },
      "outputs": [],
      "source": [
        "import torch\n",
        "import torchvision"
      ]
    },
    {
      "cell_type": "markdown",
      "source": [
        "###Find mean and standard deviation to Normalize the dataset"
      ],
      "metadata": {
        "id": "npyWOAkEU_9x"
      }
    },
    {
      "cell_type": "code",
      "source": [
        "import torchvision.transforms as transforms\n",
        "from torch.utils.data import ConcatDataset\n",
        "\n",
        "transform = transforms.Compose([\n",
        "    transforms.ToTensor()\n",
        "])\n",
        "\n",
        "mnist_train = torchvision.datasets.MNIST(root='./test', train=True, download=True,transform=transform)\n",
        "mnist_test = torchvision.datasets.MNIST(root='./test', train=False, download=True,transform=transform)\n",
        "\n",
        "mnist_full_test = ConcatDataset([mnist_train, mnist_test])\n",
        "print(mnist_full_test[0][0].shape)\n",
        "x = torch.stack([sample[0] for sample in mnist_full_test])\n",
        "\n",
        "mean = torch.mean(x,dim=(0,2,3))\n",
        "std = torch.std(x,dim=(0,2,3))\n",
        "\n",
        "print(mean)\n",
        "print(std)"
      ],
      "metadata": {
        "colab": {
          "base_uri": "https://localhost:8080/"
        },
        "id": "Gy_RwyqtXMsT",
        "outputId": "f4a7f6fd-945c-4ede-9e7c-dbfad4024ec6"
      },
      "execution_count": null,
      "outputs": [
        {
          "output_type": "stream",
          "name": "stderr",
          "text": [
            "100%|██████████| 9.91M/9.91M [00:02<00:00, 4.74MB/s]\n",
            "100%|██████████| 28.9k/28.9k [00:00<00:00, 125kB/s]\n",
            "100%|██████████| 1.65M/1.65M [00:01<00:00, 1.19MB/s]\n",
            "100%|██████████| 4.54k/4.54k [00:00<00:00, 7.24MB/s]\n"
          ]
        },
        {
          "output_type": "stream",
          "name": "stdout",
          "text": [
            "torch.Size([1, 28, 28])\n",
            "tensor([0.1309])\n",
            "tensor([0.3084])\n"
          ]
        }
      ]
    },
    {
      "cell_type": "code",
      "metadata": {
        "id": "630ff133"
      },
      "source": [
        "import torchvision.transforms as transforms\n",
        "\n",
        "transform = transforms.Compose([\n",
        "    transforms.ToTensor(),\n",
        "    transforms.Normalize((0.1309,), (0.3084,))\n",
        "])"
      ],
      "execution_count": null,
      "outputs": []
    },
    {
      "cell_type": "markdown",
      "source": [
        "###Import dataset"
      ],
      "metadata": {
        "id": "FMFkZ_3SVKIB"
      }
    },
    {
      "cell_type": "code",
      "metadata": {
        "id": "mmUMWK9gSxnJ",
        "colab": {
          "base_uri": "https://localhost:8080/"
        },
        "outputId": "42c002ef-400b-4536-ec99-937acd0460f9"
      },
      "source": [
        "mnist_train = torchvision.datasets.MNIST(root='./data', train=True, download=True)\n",
        "mnist_test = torchvision.datasets.MNIST(root='./data', train=False, download=True)"
      ],
      "execution_count": null,
      "outputs": [
        {
          "output_type": "stream",
          "name": "stderr",
          "text": [
            "100%|██████████| 9.91M/9.91M [00:02<00:00, 4.74MB/s]\n",
            "100%|██████████| 28.9k/28.9k [00:00<00:00, 119kB/s]\n",
            "100%|██████████| 1.65M/1.65M [00:01<00:00, 1.19MB/s]\n",
            "100%|██████████| 4.54k/4.54k [00:00<00:00, 9.41MB/s]\n"
          ]
        }
      ]
    },
    {
      "cell_type": "code",
      "metadata": {
        "id": "5c337229"
      },
      "source": [
        "from torch.utils.data import ConcatDataset\n",
        "\n",
        "mnist_full = ConcatDataset([mnist_train, mnist_test])"
      ],
      "execution_count": null,
      "outputs": []
    },
    {
      "cell_type": "code",
      "metadata": {
        "colab": {
          "base_uri": "https://localhost:8080/"
        },
        "id": "6382ea4c",
        "outputId": "1159c844-38f1-401a-ed28-ce88eb345814"
      },
      "source": [
        "print(f\"Shape of the concatenated dataset: {len(mnist_full)}\")"
      ],
      "execution_count": null,
      "outputs": [
        {
          "output_type": "stream",
          "name": "stdout",
          "text": [
            "Shape of the concatenated dataset: 70000\n"
          ]
        }
      ]
    },
    {
      "cell_type": "markdown",
      "source": [
        "###Train, Validation and Test split"
      ],
      "metadata": {
        "id": "jJJFlnUeVNek"
      }
    },
    {
      "cell_type": "code",
      "metadata": {
        "colab": {
          "base_uri": "https://localhost:8080/"
        },
        "id": "3ffc9188",
        "outputId": "a5794815-dd6f-4d02-8ce6-236201e6aff9"
      },
      "source": [
        "from torch.utils.data import random_split\n",
        "\n",
        "# Define the split sizes\n",
        "total_size = len(mnist_full)\n",
        "train_size = int(0.7 * total_size)\n",
        "val_size = int(0.15 * total_size)\n",
        "test_size = total_size - train_size - val_size\n",
        "\n",
        "# Split the dataset\n",
        "mnist_train_split, mnist_val_split, mnist_test_split = random_split(\n",
        "    mnist_full, [train_size, val_size, test_size]\n",
        ")\n",
        "\n",
        "print(f\"Training set size: {len(mnist_train_split)}\")\n",
        "print(f\"Validation set size: {len(mnist_val_split)}\")\n",
        "print(f\"Test set size: {len(mnist_test_split)}\")"
      ],
      "execution_count": null,
      "outputs": [
        {
          "output_type": "stream",
          "name": "stdout",
          "text": [
            "Training set size: 49000\n",
            "Validation set size: 10500\n",
            "Test set size: 10500\n"
          ]
        }
      ]
    },
    {
      "cell_type": "markdown",
      "source": [
        "###Define the Neural Network"
      ],
      "metadata": {
        "id": "gbK5Zdd3VUXL"
      }
    },
    {
      "cell_type": "code",
      "metadata": {
        "id": "1b874c9f"
      },
      "source": [
        "import torch.nn as nn\n",
        "import torch.nn.functional as F\n",
        "\n",
        "class Net(nn.Module):\n",
        "    def __init__(self):\n",
        "        super(Net, self).__init__()\n",
        "        self.conv1 = nn.Conv2d(1, 32, 3, 1)\n",
        "        self.conv2 = nn.Conv2d(32, 64, 3, 1)\n",
        "        self.dropout1 = nn.Dropout(0.25)\n",
        "        self.dropout2 = nn.Dropout(0.5)\n",
        "        self.fc1 = nn.Linear(9216, 128)\n",
        "        self.fc2 = nn.Linear(128, 10)\n",
        "\n",
        "    def forward(self, x):\n",
        "        x = self.conv1(x)\n",
        "        x = F.relu(x)\n",
        "        x = self.conv2(x)\n",
        "        x = F.relu(x)\n",
        "        x = F.max_pool2d(x, 2)\n",
        "        x = self.dropout1(x)\n",
        "        x = torch.flatten(x, 1)\n",
        "        x = self.fc1(x)\n",
        "        x = F.relu(x)\n",
        "        x = self.dropout2(x)\n",
        "        x = self.fc2(x)\n",
        "        output = F.log_softmax(x, dim=1)\n",
        "        return output"
      ],
      "execution_count": null,
      "outputs": []
    },
    {
      "cell_type": "markdown",
      "source": [
        "###Utility functions"
      ],
      "metadata": {
        "id": "XHSw3cp-XxVp"
      }
    },
    {
      "cell_type": "code",
      "metadata": {
        "id": "39899941"
      },
      "source": [
        "from torch.utils.data import DataLoader\n",
        "\n",
        "def collate_fn(batch):\n",
        "    images, labels = zip(*batch)\n",
        "    images = torch.stack([transform(img) for img in images])\n",
        "    labels = torch.tensor(labels)\n",
        "    return images, labels"
      ],
      "execution_count": null,
      "outputs": []
    },
    {
      "cell_type": "code",
      "metadata": {
        "colab": {
          "base_uri": "https://localhost:8080/"
        },
        "id": "b811648b",
        "outputId": "e229ada4-a594-4b0a-d252-9506012b33db"
      },
      "source": [
        "device = torch.device(\"cuda\" if torch.cuda.is_available() else \"cpu\")\n",
        "print(f\"Using device: {device}\")"
      ],
      "execution_count": null,
      "outputs": [
        {
          "output_type": "stream",
          "name": "stdout",
          "text": [
            "Using device: cuda\n"
          ]
        }
      ]
    },
    {
      "cell_type": "markdown",
      "source": [
        "###Train loader"
      ],
      "metadata": {
        "id": "osPp-8VaXDVK"
      }
    },
    {
      "cell_type": "code",
      "metadata": {
        "id": "33fe150f"
      },
      "source": [
        "train_loader = DataLoader(mnist_train_split, batch_size=128, shuffle=True, collate_fn=collate_fn)"
      ],
      "execution_count": null,
      "outputs": []
    },
    {
      "cell_type": "markdown",
      "source": [
        "###Training loop with Adam optimizer"
      ],
      "metadata": {
        "id": "DfagsGkRXFzO"
      }
    },
    {
      "cell_type": "code",
      "metadata": {
        "colab": {
          "base_uri": "https://localhost:8080/",
          "height": 1000
        },
        "id": "c87e7350",
        "outputId": "b44205d2-2dd9-47a9-fb44-8a6527f5e373"
      },
      "source": [
        "import torch.optim as optim\n",
        "import matplotlib.pyplot as plt\n",
        "\n",
        "# Define the number of training epochs\n",
        "num_epochs = 20\n",
        "\n",
        "# Define optimizer and loss function\n",
        "model = Net().to(device)\n",
        "criterion = nn.NLLLoss()\n",
        "optimizer = optim.Adam(model.parameters(), lr=0.001)\n",
        "\n",
        "train_loss = []\n",
        "val_loss = []\n",
        "# Start a loop that iterates for the specified number of epochs\n",
        "for epoch in range(num_epochs):\n",
        "    # Inside the epoch loop, set the model to training mode\n",
        "    model.train()\n",
        "    running_loss = 0.0\n",
        "    total_train_loss = 0.0\n",
        "    # Start an inner loop to iterate over the train_loader\n",
        "    for i, (images, labels) in enumerate(train_loader):\n",
        "        # Inside the batch loop, get the images and labels from the current batch and move them to the the device\n",
        "        images, labels = images.to(device), labels.to(device)\n",
        "\n",
        "        # Zero the gradients of the optimizer\n",
        "        optimizer.zero_grad()\n",
        "\n",
        "        # Perform a forward pass by passing the images through the model to get the outputs\n",
        "        outputs = model(images)\n",
        "\n",
        "        # Calculate the loss between the model's outputs and the true labels using the defined criterion\n",
        "        loss = criterion(outputs, labels)\n",
        "\n",
        "        # Perform a backward pass to compute the gradients\n",
        "        loss.backward()\n",
        "\n",
        "        # Update the model's weights using the optimizer's step function\n",
        "        optimizer.step()\n",
        "\n",
        "        # Optionally, print the loss at regular intervals (e.g., every few batches) to monitor training progress.\n",
        "        running_loss += loss.item()\n",
        "        if (i + 1) % 100 == 0:  # Print every 100 batches\n",
        "            print(f\"Epoch [{epoch+1}/{num_epochs}], Step [{i+1}/{len(train_loader)}], Average Loss for 100 samples: {running_loss/100:.4f}\")\n",
        "            running_loss = 0.0\n",
        "        total_train_loss+=loss.item()\n",
        "    print(f\"Epoch [{epoch+1}/{num_epochs}], Training Loss: {total_train_loss:.4f}\")\n",
        "    train_loss.append(total_train_loss)\n",
        "\n",
        "    # Add validation loop after the training loop for each epoch\n",
        "    model.eval()  # Set the model to evaluation mode\n",
        "    total_val_loss = 0.0\n",
        "    correct = 0\n",
        "    total = 0\n",
        "    # Create a DataLoader for the validation set\n",
        "    val_loader = DataLoader(mnist_val_split, batch_size=128, shuffle=False, collate_fn=collate_fn)\n",
        "    with torch.no_grad():  # Disable gradient calculation\n",
        "        for images, labels in val_loader:\n",
        "            images, labels = images.to(device), labels.to(device)\n",
        "            outputs = model(images)\n",
        "            loss = criterion(outputs, labels)\n",
        "            total_val_loss += loss.item()\n",
        "            _, predicted = torch.max(outputs.data, 1)\n",
        "            total += labels.size(0)\n",
        "            correct += (predicted == labels).sum().item()\n",
        "\n",
        "    accuracy = 100 * correct / total\n",
        "    avg_val_loss = total_val_loss\n",
        "    val_loss.append(avg_val_loss)\n",
        "    print(f\"Epoch [{epoch+1}/{num_epochs}], Validation Loss: {avg_val_loss:.4f}, Validation Accuracy: {accuracy:.2f}%\")\n",
        "\n",
        "print(\"Training finished.\")\n",
        "\n",
        "plt.plot(range(1, num_epochs + 1), train_loss)\n",
        "plt.xlabel(\"Epochs\")\n",
        "plt.ylabel(\"Train Loss\")\n",
        "plt.show()\n",
        "\n",
        "plt.plot(range(1,num_epochs + 1), val_loss)\n",
        "plt.xlabel(\"Epochs\")\n",
        "plt.ylabel(\"Validation Loss\")\n",
        "plt.show()"
      ],
      "execution_count": null,
      "outputs": [
        {
          "output_type": "stream",
          "name": "stdout",
          "text": [
            "Epoch [1/20], Step [100/383], Average Loss for 100 samples: 0.5441\n",
            "Epoch [1/20], Step [200/383], Average Loss for 100 samples: 0.1786\n",
            "Epoch [1/20], Step [300/383], Average Loss for 100 samples: 0.1415\n",
            "Epoch [1/20], Training Loss: 95.6677\n",
            "Epoch [1/20], Validation Loss: 4.8900, Validation Accuracy: 97.97%\n",
            "Epoch [2/20], Step [100/383], Average Loss for 100 samples: 0.0928\n",
            "Epoch [2/20], Step [200/383], Average Loss for 100 samples: 0.0863\n",
            "Epoch [2/20], Step [300/383], Average Loss for 100 samples: 0.0941\n",
            "Epoch [2/20], Training Loss: 34.0219\n",
            "Epoch [2/20], Validation Loss: 3.3635, Validation Accuracy: 98.70%\n",
            "Epoch [3/20], Step [100/383], Average Loss for 100 samples: 0.0663\n",
            "Epoch [3/20], Step [200/383], Average Loss for 100 samples: 0.0668\n",
            "Epoch [3/20], Step [300/383], Average Loss for 100 samples: 0.0729\n",
            "Epoch [3/20], Training Loss: 26.3887\n",
            "Epoch [3/20], Validation Loss: 3.3639, Validation Accuracy: 98.65%\n",
            "Epoch [4/20], Step [100/383], Average Loss for 100 samples: 0.0492\n",
            "Epoch [4/20], Step [200/383], Average Loss for 100 samples: 0.0580\n",
            "Epoch [4/20], Step [300/383], Average Loss for 100 samples: 0.0552\n",
            "Epoch [4/20], Training Loss: 20.5384\n",
            "Epoch [4/20], Validation Loss: 2.8235, Validation Accuracy: 98.91%\n",
            "Epoch [5/20], Step [100/383], Average Loss for 100 samples: 0.0459\n",
            "Epoch [5/20], Step [200/383], Average Loss for 100 samples: 0.0483\n",
            "Epoch [5/20], Step [300/383], Average Loss for 100 samples: 0.0481\n",
            "Epoch [5/20], Training Loss: 18.2837\n",
            "Epoch [5/20], Validation Loss: 3.4004, Validation Accuracy: 98.75%\n",
            "Epoch [6/20], Step [100/383], Average Loss for 100 samples: 0.0418\n",
            "Epoch [6/20], Step [200/383], Average Loss for 100 samples: 0.0374\n",
            "Epoch [6/20], Step [300/383], Average Loss for 100 samples: 0.0411\n",
            "Epoch [6/20], Training Loss: 15.7150\n",
            "Epoch [6/20], Validation Loss: 2.8872, Validation Accuracy: 98.82%\n",
            "Epoch [7/20], Step [100/383], Average Loss for 100 samples: 0.0350\n",
            "Epoch [7/20], Step [200/383], Average Loss for 100 samples: 0.0359\n",
            "Epoch [7/20], Step [300/383], Average Loss for 100 samples: 0.0393\n",
            "Epoch [7/20], Training Loss: 14.1728\n",
            "Epoch [7/20], Validation Loss: 2.9808, Validation Accuracy: 98.99%\n",
            "Epoch [8/20], Step [100/383], Average Loss for 100 samples: 0.0335\n",
            "Epoch [8/20], Step [200/383], Average Loss for 100 samples: 0.0322\n",
            "Epoch [8/20], Step [300/383], Average Loss for 100 samples: 0.0322\n",
            "Epoch [8/20], Training Loss: 12.6417\n",
            "Epoch [8/20], Validation Loss: 2.4931, Validation Accuracy: 99.09%\n",
            "Epoch [9/20], Step [100/383], Average Loss for 100 samples: 0.0268\n",
            "Epoch [9/20], Step [200/383], Average Loss for 100 samples: 0.0280\n",
            "Epoch [9/20], Step [300/383], Average Loss for 100 samples: 0.0280\n",
            "Epoch [9/20], Training Loss: 10.8915\n",
            "Epoch [9/20], Validation Loss: 2.6371, Validation Accuracy: 99.08%\n",
            "Epoch [10/20], Step [100/383], Average Loss for 100 samples: 0.0243\n",
            "Epoch [10/20], Step [200/383], Average Loss for 100 samples: 0.0306\n",
            "Epoch [10/20], Step [300/383], Average Loss for 100 samples: 0.0291\n",
            "Epoch [10/20], Training Loss: 10.5753\n",
            "Epoch [10/20], Validation Loss: 3.0540, Validation Accuracy: 98.93%\n",
            "Epoch [11/20], Step [100/383], Average Loss for 100 samples: 0.0245\n",
            "Epoch [11/20], Step [200/383], Average Loss for 100 samples: 0.0254\n",
            "Epoch [11/20], Step [300/383], Average Loss for 100 samples: 0.0251\n",
            "Epoch [11/20], Training Loss: 10.0513\n",
            "Epoch [11/20], Validation Loss: 2.7365, Validation Accuracy: 99.05%\n",
            "Epoch [12/20], Step [100/383], Average Loss for 100 samples: 0.0242\n",
            "Epoch [12/20], Step [200/383], Average Loss for 100 samples: 0.0236\n",
            "Epoch [12/20], Step [300/383], Average Loss for 100 samples: 0.0213\n",
            "Epoch [12/20], Training Loss: 9.1716\n",
            "Epoch [12/20], Validation Loss: 2.6929, Validation Accuracy: 99.07%\n",
            "Epoch [13/20], Step [100/383], Average Loss for 100 samples: 0.0178\n",
            "Epoch [13/20], Step [200/383], Average Loss for 100 samples: 0.0225\n",
            "Epoch [13/20], Step [300/383], Average Loss for 100 samples: 0.0262\n",
            "Epoch [13/20], Training Loss: 8.4028\n",
            "Epoch [13/20], Validation Loss: 2.8600, Validation Accuracy: 99.10%\n",
            "Epoch [14/20], Step [100/383], Average Loss for 100 samples: 0.0185\n",
            "Epoch [14/20], Step [200/383], Average Loss for 100 samples: 0.0171\n",
            "Epoch [14/20], Step [300/383], Average Loss for 100 samples: 0.0204\n",
            "Epoch [14/20], Training Loss: 7.4316\n",
            "Epoch [14/20], Validation Loss: 2.9923, Validation Accuracy: 99.03%\n",
            "Epoch [15/20], Step [100/383], Average Loss for 100 samples: 0.0171\n",
            "Epoch [15/20], Step [200/383], Average Loss for 100 samples: 0.0198\n",
            "Epoch [15/20], Step [300/383], Average Loss for 100 samples: 0.0226\n",
            "Epoch [15/20], Training Loss: 7.8767\n",
            "Epoch [15/20], Validation Loss: 2.9577, Validation Accuracy: 99.01%\n",
            "Epoch [16/20], Step [100/383], Average Loss for 100 samples: 0.0186\n",
            "Epoch [16/20], Step [200/383], Average Loss for 100 samples: 0.0214\n",
            "Epoch [16/20], Step [300/383], Average Loss for 100 samples: 0.0180\n",
            "Epoch [16/20], Training Loss: 7.2920\n",
            "Epoch [16/20], Validation Loss: 3.7926, Validation Accuracy: 98.78%\n",
            "Epoch [17/20], Step [100/383], Average Loss for 100 samples: 0.0133\n",
            "Epoch [17/20], Step [200/383], Average Loss for 100 samples: 0.0143\n",
            "Epoch [17/20], Step [300/383], Average Loss for 100 samples: 0.0213\n",
            "Epoch [17/20], Training Loss: 6.3365\n",
            "Epoch [17/20], Validation Loss: 3.0983, Validation Accuracy: 99.06%\n",
            "Epoch [18/20], Step [100/383], Average Loss for 100 samples: 0.0167\n",
            "Epoch [18/20], Step [200/383], Average Loss for 100 samples: 0.0153\n",
            "Epoch [18/20], Step [300/383], Average Loss for 100 samples: 0.0196\n",
            "Epoch [18/20], Training Loss: 6.8765\n",
            "Epoch [18/20], Validation Loss: 3.0092, Validation Accuracy: 99.07%\n",
            "Epoch [19/20], Step [100/383], Average Loss for 100 samples: 0.0145\n",
            "Epoch [19/20], Step [200/383], Average Loss for 100 samples: 0.0172\n",
            "Epoch [19/20], Step [300/383], Average Loss for 100 samples: 0.0186\n",
            "Epoch [19/20], Training Loss: 6.5605\n",
            "Epoch [19/20], Validation Loss: 3.3929, Validation Accuracy: 99.04%\n",
            "Epoch [20/20], Step [100/383], Average Loss for 100 samples: 0.0149\n",
            "Epoch [20/20], Step [200/383], Average Loss for 100 samples: 0.0175\n",
            "Epoch [20/20], Step [300/383], Average Loss for 100 samples: 0.0126\n",
            "Epoch [20/20], Training Loss: 5.9205\n",
            "Epoch [20/20], Validation Loss: 3.0864, Validation Accuracy: 99.04%\n",
            "Training finished.\n"
          ]
        },
        {
          "output_type": "display_data",
          "data": {
            "text/plain": [
              "<Figure size 640x480 with 1 Axes>"
            ],
            "image/png": "[encoded data removed]"
          },
          "metadata": {}
        },
        {
          "output_type": "display_data",
          "data": {
            "text/plain": [
              "<Figure size 640x480 with 1 Axes>"
            ],
            "image/png": "[encoded data removed]"
          },
          "metadata": {}
        }
      ]
    },
    {
      "cell_type": "markdown",
      "metadata": {
        "id": "41866417"
      },
      "source": [
        "### Training loop with standard SGD optimizer"
      ]
    },
    {
      "cell_type": "code",
      "metadata": {
        "colab": {
          "base_uri": "https://localhost:8080/",
          "height": 1000
        },
        "id": "9521d0f2",
        "outputId": "d329f888-c0ad-4c1b-82f8-900edf8cd738"
      },
      "source": [
        "# Define optimizer and loss function for standard SGD\n",
        "model_sgd = Net().to(device)\n",
        "criterion_sgd = nn.NLLLoss()\n",
        "optimizer_sgd = optim.SGD(model_sgd.parameters(), lr=0.01)\n",
        "\n",
        "train_loss_sgd = []\n",
        "val_loss_sgd = []\n",
        "\n",
        "# Start a loop that iterates for the specified number of epochs\n",
        "for epoch in range(num_epochs):\n",
        "    # Inside the epoch loop, set the model to training mode\n",
        "    model_sgd.train()\n",
        "    running_loss = 0.0\n",
        "    total_train_loss = 0.0\n",
        "    # Start an inner loop to iterate over the train_loader\n",
        "    for i, (images, labels) in enumerate(train_loader):\n",
        "        # Inside the batch loop, get the images and labels from the current batch and move them to the the device\n",
        "        images, labels = images.to(device), labels.to(device)\n",
        "\n",
        "        # Zero the gradients of the optimizer\n",
        "        optimizer_sgd.zero_grad()\n",
        "\n",
        "        # Perform a forward pass by passing the images through the model to get the outputs\n",
        "        outputs = model_sgd(images)\n",
        "\n",
        "        # Calculate the loss between the model's outputs and the true labels using the defined criterion\n",
        "        loss = criterion_sgd(outputs, labels)\n",
        "\n",
        "        # Perform a backward pass to compute the gradients\n",
        "        loss.backward()\n",
        "\n",
        "        # Update the model's weights using the optimizer's step function\n",
        "        optimizer_sgd.step()\n",
        "\n",
        "        # Optionally, print the loss at regular intervals (e.g., every few batches) to monitor training progress.\n",
        "        running_loss += loss.item()\n",
        "        if (i + 1) % 100 == 0:  # Print every 100 batches\n",
        "            print(f\"Epoch [{epoch+1}/{num_epochs}], Step [{i+1}/{len(train_loader)}], Average Loss for 100 samples: {running_loss/100:.4f}\")\n",
        "            running_loss = 0.0\n",
        "        total_train_loss+=loss.item()\n",
        "    print(f\"Epoch [{epoch+1}/{num_epochs}], Training Loss: {total_train_loss:.4f}\")\n",
        "    train_loss_sgd.append(total_train_loss)\n",
        "\n",
        "    # Add validation loop after the training loop for each epoch\n",
        "    model_sgd.eval()  # Set the model to evaluation mode\n",
        "    total_val_loss = 0.0\n",
        "    correct = 0\n",
        "    total = 0\n",
        "    # Create a DataLoader for the validation set\n",
        "    val_loader = DataLoader(mnist_val_split, batch_size=128, shuffle=False, collate_fn=collate_fn)\n",
        "    with torch.no_grad():  # Disable gradient calculation\n",
        "        for images, labels in val_loader:\n",
        "            images, labels = images.to(device), labels.to(device)\n",
        "            outputs = model_sgd(images)\n",
        "            loss = criterion_sgd(outputs, labels)\n",
        "            total_val_loss += loss.item()\n",
        "            _, predicted = torch.max(outputs.data, 1)\n",
        "            total += labels.size(0)\n",
        "            correct += (predicted == labels).sum().item()\n",
        "\n",
        "    accuracy = 100 * correct / total\n",
        "    avg_val_loss = total_val_loss\n",
        "    val_loss_sgd.append(avg_val_loss)\n",
        "    print(f\"Epoch [{epoch+1}/{num_epochs}], Validation Loss: {avg_val_loss:.4f}, Validation Accuracy: {accuracy:.2f}%\")\n",
        "\n",
        "print(\"Training finished with SGD.\")\n",
        "\n",
        "plt.plot(range(1, num_epochs + 1), train_loss_sgd)\n",
        "plt.xlabel(\"Epochs\")\n",
        "plt.ylabel(\"Train Loss (SGD)\")\n",
        "plt.show()\n",
        "\n",
        "plt.plot(range(1,num_epochs + 1), val_loss_sgd)\n",
        "plt.xlabel(\"Epochs\")\n",
        "plt.ylabel(\"Validation Loss (SGD)\")\n",
        "plt.show()"
      ],
      "execution_count": null,
      "outputs": [
        {
          "output_type": "stream",
          "name": "stdout",
          "text": [
            "Epoch [1/20], Step [100/383], Average Loss for 100 samples: 1.4064\n",
            "Epoch [1/20], Step [200/383], Average Loss for 100 samples: 0.5899\n",
            "Epoch [1/20], Step [300/383], Average Loss for 100 samples: 0.4598\n",
            "Epoch [1/20], Training Loss: 280.5175\n",
            "Epoch [1/20], Validation Loss: 23.2549, Validation Accuracy: 91.61%\n",
            "Epoch [2/20], Step [100/383], Average Loss for 100 samples: 0.3734\n",
            "Epoch [2/20], Step [200/383], Average Loss for 100 samples: 0.3518\n",
            "Epoch [2/20], Step [300/383], Average Loss for 100 samples: 0.3397\n",
            "Epoch [2/20], Training Loss: 133.5855\n",
            "Epoch [2/20], Validation Loss: 16.8880, Validation Accuracy: 93.84%\n",
            "Epoch [3/20], Step [100/383], Average Loss for 100 samples: 0.3024\n",
            "Epoch [3/20], Step [200/383], Average Loss for 100 samples: 0.2775\n",
            "Epoch [3/20], Step [300/383], Average Loss for 100 samples: 0.2726\n",
            "Epoch [3/20], Training Loss: 107.4686\n",
            "Epoch [3/20], Validation Loss: 14.9072, Validation Accuracy: 94.50%\n",
            "Epoch [4/20], Step [100/383], Average Loss for 100 samples: 0.2505\n",
            "Epoch [4/20], Step [200/383], Average Loss for 100 samples: 0.2524\n",
            "Epoch [4/20], Step [300/383], Average Loss for 100 samples: 0.2276\n",
            "Epoch [4/20], Training Loss: 93.2706\n",
            "Epoch [4/20], Validation Loss: 11.9728, Validation Accuracy: 95.66%\n",
            "Epoch [5/20], Step [100/383], Average Loss for 100 samples: 0.2261\n",
            "Epoch [5/20], Step [200/383], Average Loss for 100 samples: 0.2232\n",
            "Epoch [5/20], Step [300/383], Average Loss for 100 samples: 0.2164\n",
            "Epoch [5/20], Training Loss: 84.1531\n",
            "Epoch [5/20], Validation Loss: 10.5723, Validation Accuracy: 96.08%\n",
            "Epoch [6/20], Step [100/383], Average Loss for 100 samples: 0.2069\n",
            "Epoch [6/20], Step [200/383], Average Loss for 100 samples: 0.1990\n",
            "Epoch [6/20], Step [300/383], Average Loss for 100 samples: 0.1938\n",
            "Epoch [6/20], Training Loss: 76.4771\n",
            "Epoch [6/20], Validation Loss: 9.4976, Validation Accuracy: 96.26%\n",
            "Epoch [7/20], Step [100/383], Average Loss for 100 samples: 0.1844\n",
            "Epoch [7/20], Step [200/383], Average Loss for 100 samples: 0.1898\n",
            "Epoch [7/20], Step [300/383], Average Loss for 100 samples: 0.1796\n",
            "Epoch [7/20], Training Loss: 70.4274\n",
            "Epoch [7/20], Validation Loss: 8.5352, Validation Accuracy: 96.77%\n",
            "Epoch [8/20], Step [100/383], Average Loss for 100 samples: 0.1738\n",
            "Epoch [8/20], Step [200/383], Average Loss for 100 samples: 0.1658\n",
            "Epoch [8/20], Step [300/383], Average Loss for 100 samples: 0.1649\n",
            "Epoch [8/20], Training Loss: 63.5975\n",
            "Epoch [8/20], Validation Loss: 8.0202, Validation Accuracy: 96.96%\n",
            "Epoch [9/20], Step [100/383], Average Loss for 100 samples: 0.1611\n",
            "Epoch [9/20], Step [200/383], Average Loss for 100 samples: 0.1530\n",
            "Epoch [9/20], Step [300/383], Average Loss for 100 samples: 0.1470\n",
            "Epoch [9/20], Training Loss: 58.3802\n",
            "Epoch [9/20], Validation Loss: 7.4801, Validation Accuracy: 97.02%\n",
            "Epoch [10/20], Step [100/383], Average Loss for 100 samples: 0.1431\n",
            "Epoch [10/20], Step [200/383], Average Loss for 100 samples: 0.1347\n",
            "Epoch [10/20], Step [300/383], Average Loss for 100 samples: 0.1384\n",
            "Epoch [10/20], Training Loss: 53.1265\n",
            "Epoch [10/20], Validation Loss: 6.7207, Validation Accuracy: 97.41%\n",
            "Epoch [11/20], Step [100/383], Average Loss for 100 samples: 0.1344\n",
            "Epoch [11/20], Step [200/383], Average Loss for 100 samples: 0.1251\n",
            "Epoch [11/20], Step [300/383], Average Loss for 100 samples: 0.1318\n",
            "Epoch [11/20], Training Loss: 49.2985\n",
            "Epoch [11/20], Validation Loss: 6.4710, Validation Accuracy: 97.46%\n",
            "Epoch [12/20], Step [100/383], Average Loss for 100 samples: 0.1208\n",
            "Epoch [12/20], Step [200/383], Average Loss for 100 samples: 0.1097\n",
            "Epoch [12/20], Step [300/383], Average Loss for 100 samples: 0.1239\n",
            "Epoch [12/20], Training Loss: 45.3118\n",
            "Epoch [12/20], Validation Loss: 6.0617, Validation Accuracy: 97.61%\n",
            "Epoch [13/20], Step [100/383], Average Loss for 100 samples: 0.1128\n",
            "Epoch [13/20], Step [200/383], Average Loss for 100 samples: 0.1148\n",
            "Epoch [13/20], Step [300/383], Average Loss for 100 samples: 0.1132\n",
            "Epoch [13/20], Training Loss: 43.2587\n",
            "Epoch [13/20], Validation Loss: 5.5980, Validation Accuracy: 97.79%\n",
            "Epoch [14/20], Step [100/383], Average Loss for 100 samples: 0.1051\n",
            "Epoch [14/20], Step [200/383], Average Loss for 100 samples: 0.1088\n",
            "Epoch [14/20], Step [300/383], Average Loss for 100 samples: 0.1089\n",
            "Epoch [14/20], Training Loss: 41.4125\n",
            "Epoch [14/20], Validation Loss: 5.2831, Validation Accuracy: 97.88%\n",
            "Epoch [15/20], Step [100/383], Average Loss for 100 samples: 0.1012\n",
            "Epoch [15/20], Step [200/383], Average Loss for 100 samples: 0.0962\n",
            "Epoch [15/20], Step [300/383], Average Loss for 100 samples: 0.0962\n",
            "Epoch [15/20], Training Loss: 37.7960\n",
            "Epoch [15/20], Validation Loss: 4.8639, Validation Accuracy: 98.04%\n",
            "Epoch [16/20], Step [100/383], Average Loss for 100 samples: 0.0993\n",
            "Epoch [16/20], Step [200/383], Average Loss for 100 samples: 0.0965\n",
            "Epoch [16/20], Step [300/383], Average Loss for 100 samples: 0.0972\n",
            "Epoch [16/20], Training Loss: 36.7103\n",
            "Epoch [16/20], Validation Loss: 4.7360, Validation Accuracy: 98.09%\n",
            "Epoch [17/20], Step [100/383], Average Loss for 100 samples: 0.0869\n",
            "Epoch [17/20], Step [200/383], Average Loss for 100 samples: 0.0908\n",
            "Epoch [17/20], Step [300/383], Average Loss for 100 samples: 0.0919\n",
            "Epoch [17/20], Training Loss: 34.8626\n",
            "Epoch [17/20], Validation Loss: 4.5547, Validation Accuracy: 98.15%\n",
            "Epoch [18/20], Step [100/383], Average Loss for 100 samples: 0.0777\n",
            "Epoch [18/20], Step [200/383], Average Loss for 100 samples: 0.0919\n",
            "Epoch [18/20], Step [300/383], Average Loss for 100 samples: 0.0842\n",
            "Epoch [18/20], Training Loss: 32.6398\n",
            "Epoch [18/20], Validation Loss: 4.4781, Validation Accuracy: 98.12%\n",
            "Epoch [19/20], Step [100/383], Average Loss for 100 samples: 0.0833\n",
            "Epoch [19/20], Step [200/383], Average Loss for 100 samples: 0.0771\n",
            "Epoch [19/20], Step [300/383], Average Loss for 100 samples: 0.0832\n",
            "Epoch [19/20], Training Loss: 31.7139\n",
            "Epoch [19/20], Validation Loss: 4.2151, Validation Accuracy: 98.32%\n",
            "Epoch [20/20], Step [100/383], Average Loss for 100 samples: 0.0812\n",
            "Epoch [20/20], Step [200/383], Average Loss for 100 samples: 0.0767\n",
            "Epoch [20/20], Step [300/383], Average Loss for 100 samples: 0.0815\n",
            "Epoch [20/20], Training Loss: 30.5064\n",
            "Epoch [20/20], Validation Loss: 4.1008, Validation Accuracy: 98.30%\n",
            "Training finished with SGD.\n"
          ]
        },
        {
          "output_type": "display_data",
          "data": {
            "text/plain": [
              "<Figure size 640x480 with 1 Axes>"
            ],
            "image/png": "[encoded data removed]"
          },
          "metadata": {}
        },
        {
          "output_type": "display_data",
          "data": {
            "text/plain": [
              "<Figure size 640x480 with 1 Axes>"
            ],
            "image/png": "[encoded data removed]"
          },
          "metadata": {}
        }
      ]
    },
    {
      "cell_type": "markdown",
      "metadata": {
        "id": "d012e817"
      },
      "source": [
        "### Training loop with SGD with momentum optimizer"
      ]
    },
    {
      "cell_type": "code",
      "metadata": {
        "colab": {
          "base_uri": "https://localhost:8080/",
          "height": 1000
        },
        "id": "aa6fcd0c",
        "outputId": "75df01c4-1e08-4235-a40f-a709e3efaf20"
      },
      "source": [
        "# Define optimizer and loss function for SGD with momentum\n",
        "model_sgd_momentum = Net().to(device)\n",
        "criterion_sgd_momentum = nn.NLLLoss()\n",
        "optimizer_sgd_momentum = optim.SGD(model_sgd_momentum.parameters(), lr=0.01, momentum=0.9)\n",
        "\n",
        "train_loss_sgd_momentum = []\n",
        "val_loss_sgd_momentum = []\n",
        "\n",
        "# Start a loop that iterates for the specified number of epochs\n",
        "for epoch in range(num_epochs):\n",
        "    # Inside the epoch loop, set the model to training mode\n",
        "    model_sgd_momentum.train()\n",
        "    running_loss = 0.0\n",
        "    total_train_loss = 0.0\n",
        "    # Start an inner loop to iterate over the train_loader\n",
        "    for i, (images, labels) in enumerate(train_loader):\n",
        "        # Inside the batch loop, get the images and labels from the current batch and move them to the the device\n",
        "        images, labels = images.to(device), labels.to(device)\n",
        "\n",
        "        # Zero the gradients of the optimizer\n",
        "        optimizer_sgd_momentum.zero_grad()\n",
        "\n",
        "        # Perform a forward pass by passing the images through the model to get the outputs\n",
        "        outputs = model_sgd_momentum(images)\n",
        "\n",
        "        # Calculate the loss between the model's outputs and the true labels using the defined criterion\n",
        "        loss = criterion_sgd_momentum(outputs, labels)\n",
        "\n",
        "        # Perform a backward pass to compute the gradients\n",
        "        loss.backward()\n",
        "\n",
        "        # Update the model's weights using the optimizer's step function\n",
        "        optimizer_sgd_momentum.step()\n",
        "\n",
        "        # Optionally, print the loss at regular intervals (e.g., every few batches) to monitor training progress.\n",
        "        running_loss += loss.item()\n",
        "        if (i + 1) % 100 == 0:  # Print every 100 batches\n",
        "            print(f\"Epoch [{epoch+1}/{num_epochs}], Step [{i+1}/{len(train_loader)}], Average Loss for 100 samples: {running_loss/100:.4f}\")\n",
        "            running_loss = 0.0\n",
        "        total_train_loss+=loss.item()\n",
        "    print(f\"Epoch [{epoch+1}/{num_epochs}], Training Loss: {total_train_loss:.4f}\")\n",
        "    train_loss_sgd_momentum.append(total_train_loss)\n",
        "\n",
        "\n",
        "    # Add validation loop after the training loop for each epoch\n",
        "    model_sgd_momentum.eval()  # Set the model to evaluation mode\n",
        "    total_val_loss = 0.0\n",
        "    correct = 0\n",
        "    total = 0\n",
        "    # Create a DataLoader for the validation set\n",
        "    val_loader = DataLoader(mnist_val_split, batch_size=128, shuffle=False, collate_fn=collate_fn)\n",
        "    with torch.no_grad():  # Disable gradient calculation\n",
        "        for images, labels in val_loader:\n",
        "            images, labels = images.to(device), labels.to(device)\n",
        "            outputs = model_sgd_momentum(images)\n",
        "            loss = criterion_sgd_momentum(outputs, labels)\n",
        "            total_val_loss += loss.item()\n",
        "            _, predicted = torch.max(outputs.data, 1)\n",
        "            total += labels.size(0)\n",
        "            correct += (predicted == labels).sum().item()\n",
        "\n",
        "    accuracy = 100 * correct / total\n",
        "    avg_val_loss = total_val_loss\n",
        "    val_loss_sgd_momentum.append(avg_val_loss)\n",
        "    print(f\"Epoch [{epoch+1}/{num_epochs}], Validation Loss: {avg_val_loss:.4f}, Validation Accuracy: {accuracy:.2f}%\")\n",
        "\n",
        "print(\"Training finished with SGD with momentum.\")\n",
        "\n",
        "plt.plot(range(1, num_epochs + 1), train_loss_sgd_momentum)\n",
        "plt.xlabel(\"Epochs\")\n",
        "plt.ylabel(\"Train Loss (SGD with Momentum)\")\n",
        "plt.show()\n",
        "\n",
        "plt.plot(range(1,num_epochs + 1), val_loss_sgd_momentum)\n",
        "plt.xlabel(\"Epochs\")\n",
        "plt.ylabel(\"Validation Loss (SGD with Momentum)\")\n",
        "plt.show()"
      ],
      "execution_count": null,
      "outputs": [
        {
          "output_type": "stream",
          "name": "stdout",
          "text": [
            "Epoch [1/20], Step [100/383], Average Loss for 100 samples: 0.8972\n",
            "Epoch [1/20], Step [200/383], Average Loss for 100 samples: 0.3668\n",
            "Epoch [1/20], Step [300/383], Average Loss for 100 samples: 0.2530\n",
            "Epoch [1/20], Training Loss: 168.9679\n",
            "Epoch [1/20], Validation Loss: 8.6712, Validation Accuracy: 96.54%\n",
            "Epoch [2/20], Step [100/383], Average Loss for 100 samples: 0.1526\n",
            "Epoch [2/20], Step [200/383], Average Loss for 100 samples: 0.1461\n",
            "Epoch [2/20], Step [300/383], Average Loss for 100 samples: 0.1257\n",
            "Epoch [2/20], Training Loss: 52.6632\n",
            "Epoch [2/20], Validation Loss: 5.2019, Validation Accuracy: 98.05%\n",
            "Epoch [3/20], Step [100/383], Average Loss for 100 samples: 0.0971\n",
            "Epoch [3/20], Step [200/383], Average Loss for 100 samples: 0.1046\n",
            "Epoch [3/20], Step [300/383], Average Loss for 100 samples: 0.0977\n",
            "Epoch [3/20], Training Loss: 37.6794\n",
            "Epoch [3/20], Validation Loss: 4.4923, Validation Accuracy: 98.20%\n",
            "Epoch [4/20], Step [100/383], Average Loss for 100 samples: 0.0783\n",
            "Epoch [4/20], Step [200/383], Average Loss for 100 samples: 0.0772\n",
            "Epoch [4/20], Step [300/383], Average Loss for 100 samples: 0.0778\n",
            "Epoch [4/20], Training Loss: 29.1695\n",
            "Epoch [4/20], Validation Loss: 3.6170, Validation Accuracy: 98.59%\n",
            "Epoch [5/20], Step [100/383], Average Loss for 100 samples: 0.0634\n",
            "Epoch [5/20], Step [200/383], Average Loss for 100 samples: 0.0637\n",
            "Epoch [5/20], Step [300/383], Average Loss for 100 samples: 0.0620\n",
            "Epoch [5/20], Training Loss: 24.8243\n",
            "Epoch [5/20], Validation Loss: 3.5209, Validation Accuracy: 98.63%\n",
            "Epoch [6/20], Step [100/383], Average Loss for 100 samples: 0.0636\n",
            "Epoch [6/20], Step [200/383], Average Loss for 100 samples: 0.0542\n",
            "Epoch [6/20], Step [300/383], Average Loss for 100 samples: 0.0554\n",
            "Epoch [6/20], Training Loss: 22.4221\n",
            "Epoch [6/20], Validation Loss: 3.4264, Validation Accuracy: 98.78%\n",
            "Epoch [7/20], Step [100/383], Average Loss for 100 samples: 0.0457\n",
            "Epoch [7/20], Step [200/383], Average Loss for 100 samples: 0.0496\n",
            "Epoch [7/20], Step [300/383], Average Loss for 100 samples: 0.0547\n",
            "Epoch [7/20], Training Loss: 18.9499\n",
            "Epoch [7/20], Validation Loss: 2.9456, Validation Accuracy: 98.88%\n",
            "Epoch [8/20], Step [100/383], Average Loss for 100 samples: 0.0438\n",
            "Epoch [8/20], Step [200/383], Average Loss for 100 samples: 0.0413\n",
            "Epoch [8/20], Step [300/383], Average Loss for 100 samples: 0.0443\n",
            "Epoch [8/20], Training Loss: 16.7813\n",
            "Epoch [8/20], Validation Loss: 3.2150, Validation Accuracy: 98.81%\n",
            "Epoch [9/20], Step [100/383], Average Loss for 100 samples: 0.0439\n",
            "Epoch [9/20], Step [200/383], Average Loss for 100 samples: 0.0405\n",
            "Epoch [9/20], Step [300/383], Average Loss for 100 samples: 0.0403\n",
            "Epoch [9/20], Training Loss: 15.7761\n",
            "Epoch [9/20], Validation Loss: 2.9412, Validation Accuracy: 98.95%\n",
            "Epoch [10/20], Step [100/383], Average Loss for 100 samples: 0.0404\n",
            "Epoch [10/20], Step [200/383], Average Loss for 100 samples: 0.0359\n",
            "Epoch [10/20], Step [300/383], Average Loss for 100 samples: 0.0408\n",
            "Epoch [10/20], Training Loss: 14.9767\n",
            "Epoch [10/20], Validation Loss: 3.0269, Validation Accuracy: 98.85%\n",
            "Epoch [11/20], Step [100/383], Average Loss for 100 samples: 0.0371\n",
            "Epoch [11/20], Step [200/383], Average Loss for 100 samples: 0.0336\n",
            "Epoch [11/20], Step [300/383], Average Loss for 100 samples: 0.0382\n",
            "Epoch [11/20], Training Loss: 13.7609\n",
            "Epoch [11/20], Validation Loss: 3.0452, Validation Accuracy: 98.89%\n",
            "Epoch [12/20], Step [100/383], Average Loss for 100 samples: 0.0325\n",
            "Epoch [12/20], Step [200/383], Average Loss for 100 samples: 0.0297\n",
            "Epoch [12/20], Step [300/383], Average Loss for 100 samples: 0.0372\n",
            "Epoch [12/20], Training Loss: 13.0585\n",
            "Epoch [12/20], Validation Loss: 2.6912, Validation Accuracy: 98.98%\n",
            "Epoch [13/20], Step [100/383], Average Loss for 100 samples: 0.0264\n",
            "Epoch [13/20], Step [200/383], Average Loss for 100 samples: 0.0306\n",
            "Epoch [13/20], Step [300/383], Average Loss for 100 samples: 0.0289\n",
            "Epoch [13/20], Training Loss: 11.4293\n",
            "Epoch [13/20], Validation Loss: 2.8870, Validation Accuracy: 98.94%\n",
            "Epoch [14/20], Step [100/383], Average Loss for 100 samples: 0.0296\n",
            "Epoch [14/20], Step [200/383], Average Loss for 100 samples: 0.0277\n",
            "Epoch [14/20], Step [300/383], Average Loss for 100 samples: 0.0265\n",
            "Epoch [14/20], Training Loss: 10.5600\n",
            "Epoch [14/20], Validation Loss: 3.0110, Validation Accuracy: 98.97%\n",
            "Epoch [15/20], Step [100/383], Average Loss for 100 samples: 0.0240\n",
            "Epoch [15/20], Step [200/383], Average Loss for 100 samples: 0.0245\n",
            "Epoch [15/20], Step [300/383], Average Loss for 100 samples: 0.0288\n",
            "Epoch [15/20], Training Loss: 10.2727\n",
            "Epoch [15/20], Validation Loss: 2.6146, Validation Accuracy: 99.07%\n",
            "Epoch [16/20], Step [100/383], Average Loss for 100 samples: 0.0266\n",
            "Epoch [16/20], Step [200/383], Average Loss for 100 samples: 0.0261\n",
            "Epoch [16/20], Step [300/383], Average Loss for 100 samples: 0.0250\n",
            "Epoch [16/20], Training Loss: 9.9658\n",
            "Epoch [16/20], Validation Loss: 2.9532, Validation Accuracy: 98.97%\n",
            "Epoch [17/20], Step [100/383], Average Loss for 100 samples: 0.0278\n",
            "Epoch [17/20], Step [200/383], Average Loss for 100 samples: 0.0228\n",
            "Epoch [17/20], Step [300/383], Average Loss for 100 samples: 0.0229\n",
            "Epoch [17/20], Training Loss: 9.1187\n",
            "Epoch [17/20], Validation Loss: 3.0184, Validation Accuracy: 99.01%\n",
            "Epoch [18/20], Step [100/383], Average Loss for 100 samples: 0.0244\n",
            "Epoch [18/20], Step [200/383], Average Loss for 100 samples: 0.0234\n",
            "Epoch [18/20], Step [300/383], Average Loss for 100 samples: 0.0222\n",
            "Epoch [18/20], Training Loss: 9.2165\n",
            "Epoch [18/20], Validation Loss: 2.4900, Validation Accuracy: 99.08%\n",
            "Epoch [19/20], Step [100/383], Average Loss for 100 samples: 0.0200\n",
            "Epoch [19/20], Step [200/383], Average Loss for 100 samples: 0.0198\n",
            "Epoch [19/20], Step [300/383], Average Loss for 100 samples: 0.0178\n",
            "Epoch [19/20], Training Loss: 7.6097\n",
            "Epoch [19/20], Validation Loss: 3.0144, Validation Accuracy: 98.93%\n",
            "Epoch [20/20], Step [100/383], Average Loss for 100 samples: 0.0185\n",
            "Epoch [20/20], Step [200/383], Average Loss for 100 samples: 0.0191\n",
            "Epoch [20/20], Step [300/383], Average Loss for 100 samples: 0.0173\n",
            "Epoch [20/20], Training Loss: 7.1791\n",
            "Epoch [20/20], Validation Loss: 2.6648, Validation Accuracy: 99.10%\n",
            "Training finished with SGD with momentum.\n"
          ]
        },
        {
          "output_type": "display_data",
          "data": {
            "text/plain": [
              "<Figure size 640x480 with 1 Axes>"
            ],
            "image/png": "[encoded data removed]"
          },
          "metadata": {}
        },
        {
          "output_type": "display_data",
          "data": {
            "text/plain": [
              "<Figure size 640x480 with 1 Axes>"
            ],
            "image/png": "[encoded data removed]"
          },
          "metadata": {}
        }
      ]
    },
    {
      "cell_type": "markdown",
      "metadata": {
        "id": "7d5a9c1e"
      },
      "source": [
        "### Evaluate Model Performance on test set"
      ]
    },
    {
      "cell_type": "code",
      "metadata": {
        "colab": {
          "base_uri": "https://localhost:8080/"
        },
        "id": "3268ed09",
        "outputId": "c7221719-4a28-445b-ef83-d42087a627ca"
      },
      "source": [
        "from sklearn.metrics import precision_score, recall_score, confusion_matrix, accuracy_score\n",
        "\n",
        "# Create a DataLoader for the test set\n",
        "test_loader = DataLoader(mnist_test_split, batch_size=128, shuffle=False, collate_fn=collate_fn)\n",
        "\n",
        "def evaluate_model(model, dataloader, device):\n",
        "    model.eval()\n",
        "    y_true = []\n",
        "    y_pred = []\n",
        "    with torch.no_grad():\n",
        "        for images, labels in dataloader:\n",
        "            images, labels = images.to(device), labels.to(device)\n",
        "            outputs = model(images)\n",
        "            _, predicted = torch.max(outputs.data, 1)\n",
        "            y_true.extend(labels.cpu().numpy())\n",
        "            y_pred.extend(predicted.cpu().numpy())\n",
        "\n",
        "    accuracy = accuracy_score(y_true, y_pred)\n",
        "    precision = precision_score(y_true, y_pred, average='macro')\n",
        "    recall = recall_score(y_true, y_pred, average='macro')\n",
        "    cm = confusion_matrix(y_true, y_pred)\n",
        "\n",
        "    return accuracy, precision, recall, cm\n",
        "\n",
        "print(\"Evaluating model with Adam optimizer:\")\n",
        "accuracy_adam, precision_adam, recall_adam, cm_adam = evaluate_model(model, test_loader, device)\n",
        "print(f\"Accuracy: {accuracy_adam:.4f}\")\n",
        "print(f\"Precision (macro): {precision_adam:.4f}\")\n",
        "print(f\"Recall (macro): {recall_adam:.4f}\")\n",
        "print(\"Confusion Matrix:\")\n",
        "print(cm_adam)\n",
        "\n",
        "print(\"\\nEvaluating model with standard SGD optimizer:\")\n",
        "accuracy_sgd, precision_sgd, recall_sgd, cm_sgd = evaluate_model(model_sgd, test_loader, device)\n",
        "print(f\"Accuracy: {accuracy_sgd:.4f}\")\n",
        "print(f\"Precision (macro): {precision_sgd:.4f}\")\n",
        "print(f\"Recall (macro): {recall_sgd:.4f}\")\n",
        "print(\"Confusion Matrix:\")\n",
        "print(cm_sgd)\n",
        "\n",
        "print(\"\\nEvaluating model with SGD with momentum optimizer:\")\n",
        "accuracy_sgd_momentum, precision_sgd_momentum, recall_sgd_momentum, cm_sgd_momentum = evaluate_model(model_sgd_momentum, test_loader, device)\n",
        "print(f\"Accuracy: {accuracy_sgd_momentum:.4f}\")\n",
        "print(f\"Precision (macro): {precision_sgd_momentum:.4f}\")\n",
        "print(f\"Recall (macro): {recall_sgd_momentum:.4f}\")\n",
        "print(\"Confusion Matrix:\")\n",
        "print(cm_sgd_momentum)"
      ],
      "execution_count": null,
      "outputs": [
        {
          "output_type": "stream",
          "name": "stdout",
          "text": [
            "Evaluating model with Adam optimizer:\n",
            "Accuracy: 0.9921\n",
            "Precision (macro): 0.9920\n",
            "Recall (macro): 0.9920\n",
            "Confusion Matrix:\n",
            "[[1019    0    2    0    0    0    2    0    3    1]\n",
            " [   0 1215    3    0    0    0    0    0    1    0]\n",
            " [   1    0 1067    0    0    0    0    3    2    1]\n",
            " [   0    1    5 1051    0    3    0    3    2    0]\n",
            " [   0    0    1    0 1003    0    0    1    3    8]\n",
            " [   3    0    0    1    0  945    1    0    1    0]\n",
            " [   0    1    0    0    1    1 1035    0    2    0]\n",
            " [   0    1    1    0    2    0    0 1094    1    6]\n",
            " [   1    0    3    0    1    0    1    1  966    1]\n",
            " [   1    0    0    0    1    1    0    2    2 1022]]\n",
            "\n",
            "Evaluating model with standard SGD optimizer:\n",
            "Accuracy: 0.9854\n",
            "Precision (macro): 0.9856\n",
            "Recall (macro): 0.9852\n",
            "Confusion Matrix:\n",
            "[[1024    0    0    0    0    0    1    1    0    1]\n",
            " [   0 1212    5    0    1    0    0    1    0    0]\n",
            " [   2    5 1055    1    1    0    0    6    4    0]\n",
            " [   0    0   12 1037    0    0    0    6    8    2]\n",
            " [   1    1    1    0 1007    0    2    1    1    2]\n",
            " [   5    0    1    2    0  933    4    0    3    3]\n",
            " [   5    2    0    0    0    3 1028    0    2    0]\n",
            " [   1    2    1    0    1    0    0 1094    1    5]\n",
            " [   1    7    7    3    2    1    1    2  948    2]\n",
            " [   0    0    1    2    6    1    0    8    2 1009]]\n",
            "\n",
            "Evaluating model with SGD with momentum optimizer:\n",
            "Accuracy: 0.9920\n",
            "Precision (macro): 0.9921\n",
            "Recall (macro): 0.9919\n",
            "Confusion Matrix:\n",
            "[[1023    1    0    0    0    0    2    0    0    1]\n",
            " [   0 1215    3    0    0    0    0    1    0    0]\n",
            " [   1    2 1061    1    0    0    0    5    3    1]\n",
            " [   0    1    5 1052    0    2    0    4    1    0]\n",
            " [   0    1    0    0 1008    0    0    1    2    4]\n",
            " [   2    0    0    3    0  941    1    1    1    2]\n",
            " [   0    1    0    0    2    1 1035    0    1    0]\n",
            " [   0    1    0    0    2    0    0 1101    0    1]\n",
            " [   2    2    4    1    0    0    1    2  961    1]\n",
            " [   0    0    0    0    3    1    0    5    1 1019]]\n"
          ]
        }
      ]
    }
  ]
}